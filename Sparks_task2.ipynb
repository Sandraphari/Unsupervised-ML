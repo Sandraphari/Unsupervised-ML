{
  "nbformat": 4,
  "nbformat_minor": 0,
  "metadata": {
    "colab": {
      "name": "Sparks task2.ipynb",
      "provenance": []
    },
    "kernelspec": {
      "name": "python3",
      "display_name": "Python 3"
    },
    "language_info": {
      "name": "python"
    }
  },
  "cells": [
    {
      "cell_type": "markdown",
      "metadata": {
        "id": "fJkeGLLo4EF9"
      },
      "source": [
        "**THE SPARKS FOUNDATION**<br>\n",
        "Data Science and Business Analytics Internship(GRIP July 2021)<br>\n",
        "Task 2: Prediction using Unsupervised ML<br>\n",
        "Problem: To predict the optimum number of clusters from the given dataset and represent it visually<br>\n",
        "\n",
        "By Sandra.P"
      ]
    },
    {
      "cell_type": "code",
      "metadata": {
        "id": "DBBznugZ5bdR"
      },
      "source": [
        "#Importing Libraries\n",
        "\n",
        "import numpy as np\n",
        "import pandas as pd\n",
        "import matplotlib.pyplot as plt\n",
        "from sklearn import datasets"
      ],
      "execution_count": null,
      "outputs": []
    },
    {
      "cell_type": "code",
      "metadata": {
        "colab": {
          "base_uri": "https://localhost:8080/",
          "height": 204
        },
        "id": "9VXn7zo3584y",
        "outputId": "db10549c-57bd-486c-e82d-0bd53b22b87a"
      },
      "source": [
        "#Loading the dataset\n",
        "\n",
        "iris = datasets.load_iris()\n",
        "\n",
        "#Converting into dataframe\n",
        "\n",
        "iris_df = pd.DataFrame(iris.data,columns=iris.feature_names)\n",
        "iris_df.head()  # to see the first 5 rows"
      ],
      "execution_count": null,
      "outputs": [
        {
          "output_type": "execute_result",
          "data": {
            "text/html": [
              "<div>\n",
              "<style scoped>\n",
              "    .dataframe tbody tr th:only-of-type {\n",
              "        vertical-align: middle;\n",
              "    }\n",
              "\n",
              "    .dataframe tbody tr th {\n",
              "        vertical-align: top;\n",
              "    }\n",
              "\n",
              "    .dataframe thead th {\n",
              "        text-align: right;\n",
              "    }\n",
              "</style>\n",
              "<table border=\"1\" class=\"dataframe\">\n",
              "  <thead>\n",
              "    <tr style=\"text-align: right;\">\n",
              "      <th></th>\n",
              "      <th>sepal length (cm)</th>\n",
              "      <th>sepal width (cm)</th>\n",
              "      <th>petal length (cm)</th>\n",
              "      <th>petal width (cm)</th>\n",
              "    </tr>\n",
              "  </thead>\n",
              "  <tbody>\n",
              "    <tr>\n",
              "      <th>0</th>\n",
              "      <td>5.1</td>\n",
              "      <td>3.5</td>\n",
              "      <td>1.4</td>\n",
              "      <td>0.2</td>\n",
              "    </tr>\n",
              "    <tr>\n",
              "      <th>1</th>\n",
              "      <td>4.9</td>\n",
              "      <td>3.0</td>\n",
              "      <td>1.4</td>\n",
              "      <td>0.2</td>\n",
              "    </tr>\n",
              "    <tr>\n",
              "      <th>2</th>\n",
              "      <td>4.7</td>\n",
              "      <td>3.2</td>\n",
              "      <td>1.3</td>\n",
              "      <td>0.2</td>\n",
              "    </tr>\n",
              "    <tr>\n",
              "      <th>3</th>\n",
              "      <td>4.6</td>\n",
              "      <td>3.1</td>\n",
              "      <td>1.5</td>\n",
              "      <td>0.2</td>\n",
              "    </tr>\n",
              "    <tr>\n",
              "      <th>4</th>\n",
              "      <td>5.0</td>\n",
              "      <td>3.6</td>\n",
              "      <td>1.4</td>\n",
              "      <td>0.2</td>\n",
              "    </tr>\n",
              "  </tbody>\n",
              "</table>\n",
              "</div>"
            ],
            "text/plain": [
              "   sepal length (cm)  sepal width (cm)  petal length (cm)  petal width (cm)\n",
              "0                5.1               3.5                1.4               0.2\n",
              "1                4.9               3.0                1.4               0.2\n",
              "2                4.7               3.2                1.3               0.2\n",
              "3                4.6               3.1                1.5               0.2\n",
              "4                5.0               3.6                1.4               0.2"
            ]
          },
          "metadata": {
            "tags": []
          },
          "execution_count": 102
        }
      ]
    },
    {
      "cell_type": "code",
      "metadata": {
        "colab": {
          "base_uri": "https://localhost:8080/"
        },
        "id": "OcvvHyRXNkls",
        "outputId": "556a842e-9c18-48a7-c360-c24ac0e82bfe"
      },
      "source": [
        "# Checking for null values\n",
        "\n",
        "iris_df.isnull().sum()"
      ],
      "execution_count": null,
      "outputs": [
        {
          "output_type": "execute_result",
          "data": {
            "text/plain": [
              "sepal length (cm)    0\n",
              "sepal width (cm)     0\n",
              "petal length (cm)    0\n",
              "petal width (cm)     0\n",
              "dtype: int64"
            ]
          },
          "metadata": {
            "tags": []
          },
          "execution_count": 103
        }
      ]
    },
    {
      "cell_type": "code",
      "metadata": {
        "colab": {
          "base_uri": "https://localhost:8080/"
        },
        "id": "knrpOh0uN2zf",
        "outputId": "5d2c2763-58e6-4216-b50f-02223779cfeb"
      },
      "source": [
        "iris_df.shape"
      ],
      "execution_count": null,
      "outputs": [
        {
          "output_type": "execute_result",
          "data": {
            "text/plain": [
              "(150, 4)"
            ]
          },
          "metadata": {
            "tags": []
          },
          "execution_count": 104
        }
      ]
    },
    {
      "cell_type": "code",
      "metadata": {
        "colab": {
          "base_uri": "https://localhost:8080/"
        },
        "id": "u-72kmOeNru2",
        "outputId": "77bcf3c1-ad70-4635-bbdb-3284230665c2"
      },
      "source": [
        "# Checking for duplicate rows\n",
        "\n",
        "iris_df.duplicated().sum()"
      ],
      "execution_count": null,
      "outputs": [
        {
          "output_type": "execute_result",
          "data": {
            "text/plain": [
              "1"
            ]
          },
          "metadata": {
            "tags": []
          },
          "execution_count": 105
        }
      ]
    },
    {
      "cell_type": "code",
      "metadata": {
        "id": "_6G79Eb9N6QX"
      },
      "source": [
        "#Dropping the duplicate row\n",
        "\n",
        "iris_df.drop_duplicates(inplace=True)"
      ],
      "execution_count": null,
      "outputs": []
    },
    {
      "cell_type": "code",
      "metadata": {
        "colab": {
          "base_uri": "https://localhost:8080/"
        },
        "id": "4So3VC1-ON7O",
        "outputId": "43e2bc3e-5c72-4bcb-ecf5-0409a6edcb76"
      },
      "source": [
        "iris_df.shape"
      ],
      "execution_count": null,
      "outputs": [
        {
          "output_type": "execute_result",
          "data": {
            "text/plain": [
              "(149, 4)"
            ]
          },
          "metadata": {
            "tags": []
          },
          "execution_count": 107
        }
      ]
    },
    {
      "cell_type": "code",
      "metadata": {
        "colab": {
          "base_uri": "https://localhost:8080/",
          "height": 1000
        },
        "id": "ledV1COeOlRt",
        "outputId": "52399fb5-2d78-4b2d-9753-516c54bfff91"
      },
      "source": [
        "# Checking for outliers\n",
        "\n",
        "for i in iris_df.columns:\n",
        "  if iris_df[i].dtype=='float64':\n",
        "    plt.boxplot(iris_df[i])\n",
        "    plt.show()"
      ],
      "execution_count": null,
      "outputs": [
        {
          "output_type": "display_data",
          "data": {
            "image/png": "[encoded data removed]",
            "text/plain": [
              "<Figure size 432x288 with 1 Axes>"
            ]
          },
          "metadata": {
            "tags": [],
            "needs_background": "light"
          }
        },
        {
          "output_type": "display_data",
          "data": {
            "image/png": "[encoded data removed]",
            "text/plain": [
              "<Figure size 432x288 with 1 Axes>"
            ]
          },
          "metadata": {
            "tags": [],
            "needs_background": "light"
          }
        },
        {
          "output_type": "display_data",
          "data": {
            "image/png": "[encoded data removed]",
            "text/plain": [
              "<Figure size 432x288 with 1 Axes>"
            ]
          },
          "metadata": {
            "tags": [],
            "needs_background": "light"
          }
        },
        {
          "output_type": "display_data",
          "data": {
            "image/png": "[encoded data removed]",
            "text/plain": [
              "<Figure size 432x288 with 1 Axes>"
            ]
          },
          "metadata": {
            "tags": [],
            "needs_background": "light"
          }
        }
      ]
    },
    {
      "cell_type": "code",
      "metadata": {
        "colab": {
          "base_uri": "https://localhost:8080/",
          "height": 265
        },
        "id": "2kjD9yYEREVB",
        "outputId": "5c570e74-33b8-4b56-8fd8-b55b1dda7dbc"
      },
      "source": [
        "# Removing outliers using IQR method\n",
        "\n",
        "Q1,Q3=np.percentile(iris_df['sepal width (cm)'],[25,75])\n",
        "IQR=Q3-Q1\n",
        "lower=Q1-1.5*IQR\n",
        "upper=Q3+1.5*IQR\n",
        "iris_df['sepal width (cm)']=iris_df['sepal width (cm)'].apply(lambda x: lower if x < lower else upper if x > upper else x)\n",
        "plt.boxplot(x=iris_df['sepal width (cm)'])\n",
        "plt.show()\n",
        "\n"
      ],
      "execution_count": null,
      "outputs": [
        {
          "output_type": "display_data",
          "data": {
            "image/png": "[encoded data removed]",
            "text/plain": [
              "<Figure size 432x288 with 1 Axes>"
            ]
          },
          "metadata": {
            "tags": [],
            "needs_background": "light"
          }
        }
      ]
    },
    {
      "cell_type": "markdown",
      "metadata": {
        "id": "cCic7N6t-r67"
      },
      "source": [
        "Finding the optimum number of clusters needed "
      ]
    },
    {
      "cell_type": "code",
      "metadata": {
        "id": "Sb4iEE_n7qd5"
      },
      "source": [
        "x = iris_df.iloc[:,[0,1,2,3]].values\n",
        "\n",
        "from sklearn.cluster import KMeans\n",
        "wcss=[]                            # Within Cluster Sum of Squares\n",
        "for i in range(1,11):\n",
        "  kmeans=KMeans(n_clusters=i,init='k-means++',n_init=10,max_iter=300,random_state=0)\n",
        "  kmeans.fit(x)\n",
        "  wcss.append(kmeans.inertia_)"
      ],
      "execution_count": null,
      "outputs": []
    },
    {
      "cell_type": "code",
      "metadata": {
        "colab": {
          "base_uri": "https://localhost:8080/",
          "height": 295
        },
        "id": "bB1LaDGn-pSy",
        "outputId": "fb0eec7c-c07d-431a-98fd-5305f024dda3"
      },
      "source": [
        "# plotting the results inorder to find the 'The elbow'\n",
        "\n",
        "plt.plot(range(1,11),wcss,'deeppink')\n",
        "plt.title('The elbow method')\n",
        "plt.xlabel('Number of clusters')\n",
        "plt.ylabel('WCSS')\n",
        "plt.show()"
      ],
      "execution_count": null,
      "outputs": [
        {
          "output_type": "display_data",
          "data": {
            "image/png": "[encoded data removed]",
            "text/plain": [
              "<Figure size 432x288 with 1 Axes>"
            ]
          },
          "metadata": {
            "tags": [],
            "needs_background": "light"
          }
        }
      ]
    },
    {
      "cell_type": "markdown",
      "metadata": {
        "id": "WHNigm4_AVcI"
      },
      "source": [
        "From this graph, we can see exactly where the elbow occurs.That is the point from where the WCSS doesn't decrease significantly with every iteration<br>\n",
        "\n",
        "In this graph, the elbow seems to be where the number of clusters is 3. So we take K as 3\n"
      ]
    },
    {
      "cell_type": "code",
      "metadata": {
        "id": "uLD3k1faBeq3"
      },
      "source": [
        "# Clustering\n",
        "\n",
        "kmeans=KMeans(n_clusters=3,init='k-means++',n_init=10,max_iter=300,random_state=0)\n",
        "y = kmeans.fit_predict(x)"
      ],
      "execution_count": null,
      "outputs": []
    },
    {
      "cell_type": "code",
      "metadata": {
        "colab": {
          "base_uri": "https://localhost:8080/",
          "height": 282
        },
        "id": "p3LpV4NkEFkC",
        "outputId": "13010e82-6936-45af-9b9a-fe0de06e1d35"
      },
      "source": [
        "# Visualising the clusters on the first two columns\n",
        "\n",
        "plt.scatter(x[y==0,0],x[y==0,1],s=90,c='plum',label='Iris-setosa')\n",
        "plt.scatter(x[y==1,0],x[y==1,1],s=90,c='teal',label='Iris-versicolor')\n",
        "plt.scatter(x[y==2,0],x[y==2,1],s=90,c='steelblue',label='Iris-virginica')\n",
        "\n",
        "#Plotting the centroids of the clusters\n",
        "\n",
        "plt.scatter(kmeans.cluster_centers_[:,0],kmeans.cluster_centers_[:,1],s=90,c='yellow',label='Centroids')\n",
        "plt.legend()\n"
      ],
      "execution_count": null,
      "outputs": [
        {
          "output_type": "execute_result",
          "data": {
            "text/plain": [
              "<matplotlib.legend.Legend at 0x7f6996df0ed0>"
            ]
          },
          "metadata": {
            "tags": []
          },
          "execution_count": 113
        },
        {
          "output_type": "display_data",
          "data": {
            "image/png": "[encoded data removed]",
            "text/plain": [
              "<Figure size 432x288 with 1 Axes>"
            ]
          },
          "metadata": {
            "tags": [],
            "needs_background": "light"
          }
        }
      ]
    },
    {
      "cell_type": "markdown",
      "metadata": {
        "id": "YJo-djn4KV2U"
      },
      "source": [
        "###Thus we have clustered the given Iris dataset into three clusters###"
      ]
    },
    {
      "cell_type": "markdown",
      "metadata": {
        "id": "utw2fW4ELF1s"
      },
      "source": [
        "**Thank you !!!**"
      ]
    }
  ]
}